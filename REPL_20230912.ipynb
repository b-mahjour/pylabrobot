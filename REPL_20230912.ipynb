{
 "cells": [
  {
   "cell_type": "code",
   "execution_count": 1,
   "metadata": {},
   "outputs": [],
   "source": [
    "from pylabrobot.liquid_handling import LiquidHandler\n",
    "from pylabrobot.liquid_handling.backends import EVO\n",
    "from pylabrobot.resources.tecan.tecan_decks import TecanDeck, EVO200_NUM_RAILS, EVO200_SIZE_X, EVO200_SIZE_Y, EVO200_SIZE_Z"
   ]
  },
  {
   "cell_type": "code",
   "execution_count": 2,
   "metadata": {},
   "outputs": [],
   "source": [
    "backend = EVO()\n",
    "lh = LiquidHandler(backend=backend, deck=TecanDeck(num_rails=EVO200_NUM_RAILS,\n",
    "                                                   size_x=EVO200_SIZE_X,\n",
    "                                                   size_y=EVO200_SIZE_Y,\n",
    "                                                   size_z=EVO200_SIZE_Z))\n"
   ]
  },
  {
   "cell_type": "code",
   "execution_count": 3,
   "metadata": {},
   "outputs": [],
   "source": [
    "from pylabrobot.resources import Well, TecanPlate, MP_3Pos_Flat, \\\n",
    "TecanTip, TipType, Coordinate, create_equally_spaced\n",
    "\n",
    "def StockVial(name: str, location: tuple) -> Well:\n",
    "    a = Well(\n",
    "        name=name,\n",
    "        size_x=13.75,\n",
    "        size_y=13.75,\n",
    "        size_z=9,\n",
    "    )\n",
    "\n",
    "    a.location = Coordinate(x=location[0], \n",
    "                            y=location[1], \n",
    "                            z=location[2])\n",
    "    return a\n",
    "\n",
    "def StockPlate(name: str) -> TecanPlate:\n",
    "    return TecanPlate(\n",
    "        name=name,\n",
    "        size_x=127.4,\n",
    "        size_y=84.9,\n",
    "        size_z=7.6,\n",
    "        items=[[StockVial(name=\"A1\", location=(17.5,60.5, 0.0))]],\n",
    "        with_lid=False,\n",
    "        lid_height=0,\n",
    "        model=\"Stock_8_Well\",\n",
    "        z_travel=1900.0,\n",
    "        z_start=1957.0,\n",
    "        z_dispense=1975.0,\n",
    "        z_max=2005.0,\n",
    "        area=33.2\n",
    "    )\n",
    "\n",
    "# def StockPlate(name: str) -> TecanPlate:\n",
    "#     return TecanPlate(\n",
    "#         name=name,\n",
    "#         size_x=129.9,\n",
    "#         size_y=83.9,\n",
    "#         size_z=5.6,\n",
    "#         items=create_equally_spaced(Well,\n",
    "#           num_items_x=12,\n",
    "#           num_items_y=8,\n",
    "#           dx=10.8,\n",
    "#           dy=6.2,\n",
    "#           dz=0.0,\n",
    "#           item_dx=9.0,\n",
    "#           item_dy=9.0,\n",
    "#           size_x=9.0,\n",
    "#           size_y=9.0\n",
    "#         ),\n",
    "#         with_lid=False,\n",
    "#         lid_height=0,\n",
    "#         model=\"Stock_8_Well\",\n",
    "#         z_travel=1750.0,\n",
    "#         z_start=1800.0,\n",
    "#         z_dispense=1970.0,\n",
    "#         z_max=2026.0,\n",
    "#         area=33.2\n",
    "#     )\n",
    "\n",
    "\n",
    "def StockPlate_2Dram_24(name: str) -> TecanPlate:\n",
    "    return TecanPlate(\n",
    "        name=name,\n",
    "        size_x=127,\n",
    "        size_y=85,\n",
    "        size_z=24.0,\n",
    "        items=create_equally_spaced(Well,\n",
    "          num_items_x=6,\n",
    "          num_items_y=4,\n",
    "          dx=9.0,\n",
    "          dy=5.0,\n",
    "          dz=0.0,\n",
    "          item_dx=20.0,\n",
    "          item_dy=20.0,\n",
    "          size_x=20.0,\n",
    "          size_y=20.0\n",
    "        ),\n",
    "        with_lid=False,\n",
    "        lid_height=0,\n",
    "        model=\"StockPlate_2Dram_24\",\n",
    "        z_travel=1750.0,\n",
    "        z_start=1800.0,\n",
    "        z_dispense=1970.0,\n",
    "        z_max=2026.0,\n",
    "        area=33.2\n",
    "    )\n",
    "\n",
    "\n",
    "\n",
    "def TecanTip400() -> TecanTip:\n",
    "  return TecanTip(\n",
    "    has_filter=False,\n",
    "    total_tip_length=39,\n",
    "    maximal_volume=400,\n",
    "    fitting_depth=37,\n",
    "    tip_type=TipType.STANDARD\n",
    "  )\n"
   ]
  },
  {
   "cell_type": "code",
   "execution_count": 4,
   "metadata": {},
   "outputs": [
    {
     "name": "stdout",
     "output_type": "stream",
     "text": [
      "name test plate_3\n",
      "type TecanPlate TecanPlate\n",
      "size_x 127.8 127.4\n",
      "size_y 85.4 84.9\n",
      "size_z 7.6 7.6\n",
      "location None None\n",
      "z_travel 1900.0 1900.0\n",
      "z_start 1957.0 1957.0\n",
      "z_dispense 1975.0 1975.0\n",
      "z_max 2005.0 2005.0\n",
      "area 33.2 33.2\n",
      "num_items_x 12 1\n",
      "num_items_y 8 1\n",
      "one_dot_max 0 0\n",
      "category tecan_plate tecan_plate\n",
      "model Microplate_96_Well Stock_8_Well\n",
      "children\n",
      ">>>> name test_well_0_0 plate_3_A1\n",
      ">>>> type Well Well\n",
      ">>>> size_x 9.0 13.75\n",
      ">>>> size_y 9.0 13.75\n",
      ">>>> size_z 9 9\n",
      ">>>> location {'x': 12.5, 'y': 70.6, 'z': 0.0, 'type': 'Coordinate'} {'x': 17.5, 'y': 60.5, 'z': 0.0, 'type': 'Coordinate'}\n",
      ">>>> category well well\n",
      ">>>> model None None\n",
      ">>>> children [] []\n",
      ">>>> parent_name test plate_3\n",
      ">>>> max_volume 572.5552611167398 1336.4040624059708\n",
      "parent_name None None\n"
     ]
    }
   ],
   "source": [
    "from pylabrobot.resources import Microplate_96_Well\n",
    "\n",
    "r = Microplate_96_Well(name=\"test\").serialize()\n",
    "stock_solvent_plate = StockPlate(name=\"plate_3\").serialize()\n",
    "\n",
    "for k in r:\n",
    "    if k == \"children\":\n",
    "        print(k)\n",
    "        for j in r[k][0]:\n",
    "            print(\">>>>\", j, r[k][0][j], stock_solvent_plate[k][0][j])\n",
    "    else:\n",
    "        print(k, r[k], stock_solvent_plate[k])\n"
   ]
  },
  {
   "cell_type": "code",
   "execution_count": 5,
   "metadata": {},
   "outputs": [],
   "source": [
    "from pylabrobot.resources import Microplate_96_Well\n",
    "\n",
    "\n",
    "# lh.deck.unassign_child_resource(lh.get_resource(\"plate_carrier_1\"))\n",
    "\n",
    "\n",
    "plt_car1 = MP_3Pos_Flat(name=\"plate_carrier_1\")\n",
    "stock_solvent_plate = StockPlate(name=\"plate_3\")\n",
    "stock_24 = StockPlate_2Dram_24(name=\"plate_1\")\n",
    "plt_car1[0] = stock_solvent_plate\n",
    "plt_car1[2] = stock_24\n",
    "lh.deck.assign_child_resource(plt_car1, rails=7)\n",
    "Plate3 = lh.get_resource(\"plate_3\")\n",
    "Plate1 = lh.get_resource(\"plate_1\")"
   ]
  },
  {
   "cell_type": "code",
   "execution_count": 3,
   "metadata": {},
   "outputs": [
    {
     "name": "stdout",
     "output_type": "stream",
     "text": [
      "ok\n",
      "None\n",
      "None\n",
      "<usb.backend.libusb0._LibUSB object at 0x000001EE9B1B0F70>\n",
      "[<DEVICE ID 0c47:4000 on Bus 000 Address 255>]\n",
      "2100\n"
     ]
    }
   ],
   "source": [
    "await lh.setup()"
   ]
  },
  {
   "cell_type": "code",
   "execution_count": 1,
   "metadata": {},
   "outputs": [
    {
     "name": "stdout",
     "output_type": "stream",
     "text": [
      "c:\\Users\\admin\\Desktop\\esvelt-pylabrobot\\evoware_programmatic_interface_20230901\\test3_20230901\\env\\Scripts\\python.exe\n",
      "environ({'ALLUSERSPROFILE': 'C:\\\\ProgramData', 'APPDATA': 'C:\\\\Users\\\\admin\\\\AppData\\\\Roaming', 'APPLICATION_INSIGHTS_NO_DIAGNOSTIC_CHANNEL': '1', 'CHROME_CRASHPAD_PIPE_NAME': '\\\\\\\\.\\\\pipe\\\\crashpad_11356_VBVRIMQSUCYOMVIX', 'COMMONPROGRAMFILES': 'C:\\\\Program Files\\\\Common Files', 'COMMONPROGRAMFILES(X86)': 'C:\\\\Program Files (x86)\\\\Common Files', 'COMMONPROGRAMW6432': 'C:\\\\Program Files\\\\Common Files', 'COMPUTERNAME': 'DESKTOP-IG3G318', 'COMSPEC': 'C:\\\\Windows\\\\system32\\\\cmd.exe', 'DRIVERDATA': 'C:\\\\Windows\\\\System32\\\\Drivers\\\\DriverData', 'ELECTRON_RUN_AS_NODE': '1', 'FPS_BROWSER_APP_PROFILE_STRING': 'Internet Explorer', 'FPS_BROWSER_USER_PROFILE_STRING': 'Default', 'HOME': 'C:\\\\Users\\\\admin', 'HOMEDRIVE': 'C:', 'HOMEPATH': '\\\\Users\\\\admin', 'JPY_INTERRUPT_EVENT': '2784', 'LOCALAPPDATA': 'C:\\\\Users\\\\admin\\\\AppData\\\\Local', 'LOGONSERVER': '\\\\\\\\DESKTOP-IG3G318', 'NUMBER_OF_PROCESSORS': '8', 'ONEDRIVE': 'C:\\\\Users\\\\admin\\\\OneDrive', 'ORIGINAL_XDG_CURRENT_DESKTOP': 'undefined', 'OS': 'Windows_NT', 'PATH': 'c:\\\\Users\\\\admin\\\\Desktop\\\\esvelt-pylabrobot\\\\evoware_programmatic_interface_20230901\\\\test3_20230901\\\\env\\\\Scripts;C:\\\\Users\\\\admin\\\\Desktop\\\\esvelt-pylabrobot\\\\evoware_programmatic_interface_20230901\\\\test3_20230901\\\\env\\\\Scripts;C:\\\\Windows\\\\system32;C:\\\\Windows;C:\\\\Windows\\\\System32\\\\Wbem;C:\\\\Windows\\\\System32\\\\WindowsPowerShell\\\\v1.0\\\\;C:\\\\Windows\\\\System32\\\\OpenSSH\\\\;C:\\\\Program Files\\\\dotnet\\\\;C:\\\\Program Files\\\\Git\\\\cmd;C:\\\\Users\\\\admin\\\\AppData\\\\Local\\\\Programs\\\\Python\\\\Python310\\\\Scripts\\\\;C:\\\\Users\\\\admin\\\\AppData\\\\Local\\\\Programs\\\\Python\\\\Python310\\\\;C:\\\\Users\\\\admin\\\\AppData\\\\Local\\\\Microsoft\\\\WindowsApps;;C:\\\\Users\\\\admin\\\\AppData\\\\Local\\\\Programs\\\\Microsoft VS Code\\\\bin;C:\\\\Users\\\\admin\\\\.dotnet\\\\tools', 'PATHEXT': '.COM;.EXE;.BAT;.CMD;.VBS;.VBE;.JS;.JSE;.WSF;.WSH;.MSC', 'PROCESSOR_ARCHITECTURE': 'AMD64', 'PROCESSOR_IDENTIFIER': 'Intel64 Family 6 Model 165 Stepping 3, GenuineIntel', 'PROCESSOR_LEVEL': '6', 'PROCESSOR_REVISION': 'a503', 'PROGRAMDATA': 'C:\\\\ProgramData', 'PROGRAMFILES': 'C:\\\\Program Files', 'PROGRAMFILES(X86)': 'C:\\\\Program Files (x86)', 'PROGRAMW6432': 'C:\\\\Program Files', 'PROMPT': '(env) $P$G', 'PSMODULEPATH': 'C:\\\\Program Files\\\\WindowsPowerShell\\\\Modules;C:\\\\Windows\\\\system32\\\\WindowsPowerShell\\\\v1.0\\\\Modules', 'PUBLIC': 'C:\\\\Users\\\\Public', 'PYDEVD_IPYTHON_COMPATIBLE_DEBUGGING': '1', 'PYTHONIOENCODING': 'utf-8', 'PYTHONUNBUFFERED': '1', 'SESSIONNAME': 'Console', 'SYSTEMDRIVE': 'C:', 'SYSTEMROOT': 'C:\\\\Windows', 'TEMP': 'C:\\\\Users\\\\admin\\\\AppData\\\\Local\\\\Temp', 'TMP': 'C:\\\\Users\\\\admin\\\\AppData\\\\Local\\\\Temp', 'USERDOMAIN': 'DESKTOP-IG3G318', 'USERDOMAIN_ROAMINGPROFILE': 'DESKTOP-IG3G318', 'USERNAME': 'admin', 'USERPROFILE': 'C:\\\\Users\\\\admin', 'VIRTUAL_ENV': 'C:\\\\Users\\\\admin\\\\Desktop\\\\esvelt-pylabrobot\\\\evoware_programmatic_interface_20230901\\\\test3_20230901\\\\env', 'VIRTUAL_ENV_PROMPT': '(env) ', 'VSCODE_AMD_ENTRYPOINT': 'vs/workbench/api/node/extensionHostProcess', 'VSCODE_CODE_CACHE_PATH': 'C:\\\\Users\\\\admin\\\\AppData\\\\Roaming\\\\Code\\\\CachedData\\\\abd2f3db4bdb28f9e95536dfa84d8479f1eb312d', 'VSCODE_CRASH_REPORTER_PROCESS_TYPE': 'extensionHost', 'VSCODE_CWD': 'C:\\\\Users\\\\admin\\\\AppData\\\\Local\\\\Programs\\\\Microsoft VS Code', 'VSCODE_HANDLES_UNCAUGHT_ERRORS': 'true', 'VSCODE_IPC_HOOK': '\\\\\\\\.\\\\pipe\\\\40c024692924a7e0e09c00bf44e8c2ef-1.82.2-main-sock', 'VSCODE_NLS_CONFIG': '{\"locale\":\"en-us\",\"osLocale\":\"en-us\",\"availableLanguages\":{},\"_languagePackSupport\":true}', 'VSCODE_PID': '11356', 'WINDIR': 'C:\\\\Windows', 'ZES_ENABLE_SYSMAN': '1', '_OLD_VIRTUAL_PATH': 'C:\\\\Windows\\\\system32;C:\\\\Windows;C:\\\\Windows\\\\System32\\\\Wbem;C:\\\\Windows\\\\System32\\\\WindowsPowerShell\\\\v1.0\\\\;C:\\\\Windows\\\\System32\\\\OpenSSH\\\\;C:\\\\Program Files\\\\dotnet\\\\;C:\\\\Program Files\\\\Git\\\\cmd;C:\\\\Users\\\\admin\\\\AppData\\\\Local\\\\Programs\\\\Python\\\\Python310\\\\Scripts\\\\;C:\\\\Users\\\\admin\\\\AppData\\\\Local\\\\Programs\\\\Python\\\\Python310\\\\;C:\\\\Users\\\\admin\\\\AppData\\\\Local\\\\Microsoft\\\\WindowsApps;;C:\\\\Users\\\\admin\\\\AppData\\\\Local\\\\Programs\\\\Microsoft VS Code\\\\bin;C:\\\\Users\\\\admin\\\\.dotnet\\\\tools', '_OLD_VIRTUAL_PROMPT': '$P$G', 'PYDEVD_USE_FRAME_EVAL': 'NO', 'TERM': 'xterm-color', 'CLICOLOR': '1', 'FORCE_COLOR': '1', 'CLICOLOR_FORCE': '1', 'PAGER': 'cat', 'GIT_PAGER': 'cat', 'MPLBACKEND': 'module://matplotlib_inline.backend_inline'})\n"
     ]
    }
   ],
   "source": [
    "import usb.backend.libusb0 as libusb0\n",
    "import sys\n",
    "print(sys.executable)\n",
    "import os\n",
    "print(os.environ)"
   ]
  },
  {
   "cell_type": "code",
   "execution_count": 4,
   "metadata": {},
   "outputs": [
    {
     "name": "stdout",
     "output_type": "stream",
     "text": [
      "ALLUSERSPROFILE=C:\\ProgramData\n",
      "APPDATA=C:\\Users\\admin\\AppData\\Roaming\n",
      "APPLICATION_INSIGHTS_NO_DIAGNOSTIC_CHANNEL=1\n",
      "CHROME_CRASHPAD_PIPE_NAME=\\\\.\\pipe\\crashpad_11356_VBVRIMQSUCYOMVIX\n",
      "CLICOLOR=1\n",
      "CLICOLOR_FORCE=1\n",
      "COMMONPROGRAMFILES=C:\\Program Files\\Common Files\n",
      "COMMONPROGRAMFILES(X86)=C:\\Program Files (x86)\\Common Files\n",
      "COMMONPROGRAMW6432=C:\\Program Files\\Common Files\n",
      "COMPUTERNAME=DESKTOP-IG3G318\n",
      "COMSPEC=C:\\Windows\\system32\\cmd.exe\n",
      "DRIVERDATA=C:\\Windows\\System32\\Drivers\\DriverData\n",
      "ELECTRON_RUN_AS_NODE=1\n",
      "FORCE_COLOR=1\n",
      "FPS_BROWSER_APP_PROFILE_STRING=Internet Explorer\n",
      "FPS_BROWSER_USER_PROFILE_STRING=Default\n",
      "GIT_PAGER=cat\n",
      "HOME=C:\\Users\\admin\n",
      "HOMEDRIVE=C:\n",
      "HOMEPATH=\\Users\\admin\n",
      "JPY_INTERRUPT_EVENT=2784\n",
      "LOCALAPPDATA=C:\\Users\\admin\\AppData\\Local\n",
      "LOGONSERVER=\\\\DESKTOP-IG3G318\n",
      "MPLBACKEND=module://matplotlib_inline.backend_inline\n",
      "NUMBER_OF_PROCESSORS=8\n",
      "ONEDRIVE=C:\\Users\\admin\\OneDrive\n",
      "ORIGINAL_XDG_CURRENT_DESKTOP=undefined\n",
      "OS=Windows_NT\n",
      "PAGER=cat\n",
      "PATH=c:\\Users\\admin\\Desktop\\esvelt-pylabrobot\\evoware_programmatic_interface_20230901\\test3_20230901\\env\\Scripts;C:\\Users\\admin\\Desktop\\esvelt-pylabrobot\\evoware_programmatic_interface_20230901\\test3_20230901\\env\\Scripts;C:\\Windows\\system32;C:\\Windows;C:\\Windows\\System32\\Wbem;C:\\Windows\\System32\\WindowsPowerShell\\v1.0\\;C:\\Windows\\System32\\OpenSSH\\;C:\\Program Files\\dotnet\\;C:\\Program Files\\Git\\cmd;C:\\Users\\admin\\AppData\\Local\\Programs\\Python\\Python310\\Scripts\\;C:\\Users\\admin\\AppData\\Local\\Programs\\Python\\Python310\\;C:\\Users\\admin\\AppData\\Local\\Microsoft\\WindowsApps;;C:\\Users\\admin\\AppData\\Local\\Programs\\Microsoft VS Code\\bin;C:\\Users\\admin\\.dotnet\\tools\n",
      "PATHEXT=.COM;.EXE;.BAT;.CMD;.VBS;.VBE;.JS;.JSE;.WSF;.WSH;.MSC\n",
      "PROCESSOR_ARCHITECTURE=AMD64\n",
      "PROCESSOR_IDENTIFIER=Intel64 Family 6 Model 165 Stepping 3, GenuineIntel\n",
      "PROCESSOR_LEVEL=6\n",
      "PROCESSOR_REVISION=a503\n",
      "PROGRAMDATA=C:\\ProgramData\n",
      "PROGRAMFILES=C:\\Program Files\n",
      "PROGRAMFILES(X86)=C:\\Program Files (x86)\n",
      "PROGRAMW6432=C:\\Program Files\n",
      "PROMPT=(env) $P$G\n",
      "PSMODULEPATH=C:\\Program Files\\WindowsPowerShell\\Modules;C:\\Windows\\system32\\WindowsPowerShell\\v1.0\\Modules\n",
      "PUBLIC=C:\\Users\\Public\n",
      "PYDEVD_IPYTHON_COMPATIBLE_DEBUGGING=1\n",
      "PYDEVD_USE_FRAME_EVAL=NO\n",
      "PYTHONIOENCODING=utf-8\n",
      "PYTHONUNBUFFERED=1\n",
      "SESSIONNAME=Console\n",
      "SYSTEMDRIVE=C:\n",
      "SYSTEMROOT=C:\\Windows\n",
      "TEMP=C:\\Users\\admin\\AppData\\Local\\Temp\n",
      "TERM=xterm-color\n",
      "TMP=C:\\Users\\admin\\AppData\\Local\\Temp\n",
      "USERDOMAIN=DESKTOP-IG3G318\n",
      "USERDOMAIN_ROAMINGPROFILE=DESKTOP-IG3G318\n",
      "USERNAME=admin\n",
      "USERPROFILE=C:\\Users\\admin\n",
      "VIRTUAL_ENV=C:\\Users\\admin\\Desktop\\esvelt-pylabrobot\\evoware_programmatic_interface_20230901\\test3_20230901\\env\n",
      "VIRTUAL_ENV_PROMPT=(env) \n",
      "VSCODE_AMD_ENTRYPOINT=vs/workbench/api/node/extensionHostProcess\n",
      "VSCODE_CODE_CACHE_PATH=C:\\Users\\admin\\AppData\\Roaming\\Code\\CachedData\\abd2f3db4bdb28f9e95536dfa84d8479f1eb312d\n",
      "VSCODE_CRASH_REPORTER_PROCESS_TYPE=extensionHost\n",
      "VSCODE_CWD=C:\\Users\\admin\\AppData\\Local\\Programs\\Microsoft VS Code\n",
      "VSCODE_HANDLES_UNCAUGHT_ERRORS=true\n",
      "VSCODE_IPC_HOOK=\\\\.\\pipe\\40c024692924a7e0e09c00bf44e8c2ef-1.82.2-main-sock\n",
      "VSCODE_NLS_CONFIG={\"locale\":\"en-us\",\"osLocale\":\"en-us\",\"availableLanguages\":{},\"_languagePackSupport\":true}\n",
      "VSCODE_PID=11356\n",
      "WINDIR=C:\\Windows\n",
      "ZES_ENABLE_SYSMAN=1\n",
      "_OLD_VIRTUAL_PATH=C:\\Windows\\system32;C:\\Windows;C:\\Windows\\System32\\Wbem;C:\\Windows\\System32\\WindowsPowerShell\\v1.0\\;C:\\Windows\\System32\\OpenSSH\\;C:\\Program Files\\dotnet\\;C:\\Program Files\\Git\\cmd;C:\\Users\\admin\\AppData\\Local\\Programs\\Python\\Python310\\Scripts\\;C:\\Users\\admin\\AppData\\Local\\Programs\\Python\\Python310\\;C:\\Users\\admin\\AppData\\Local\\Microsoft\\WindowsApps;;C:\\Users\\admin\\AppData\\Local\\Programs\\Microsoft VS Code\\bin;C:\\Users\\admin\\.dotnet\\tools\n",
      "_OLD_VIRTUAL_PROMPT=$P$G\n"
     ]
    }
   ],
   "source": [
    "!set"
   ]
  },
  {
   "cell_type": "code",
   "execution_count": 2,
   "metadata": {},
   "outputs": [
    {
     "data": {
      "text/plain": [
       "<usb.backend.libusb0._LibUSB at 0x1d119423850>"
      ]
     },
     "execution_count": 2,
     "metadata": {},
     "output_type": "execute_result"
    }
   ],
   "source": [
    "libusb0.get_backend()"
   ]
  },
  {
   "cell_type": "code",
   "execution_count": 3,
   "metadata": {},
   "outputs": [
    {
     "name": "stdout",
     "output_type": "stream",
     "text": [
      "<usb.backend.libusb0._LibUSB object at 0x000001D119423D30>\n"
     ]
    }
   ],
   "source": [
    "%run text.py"
   ]
  },
  {
   "cell_type": "code",
   "execution_count": 148,
   "metadata": {},
   "outputs": [],
   "source": [
    "lh.update_head_state({0:None, 1:None})\n",
    "lh.update_head_state({0:TecanTip400(), 1:TecanTip400()})\n",
    "# lh.update_head_state({0:TecanTip400()})\n",
    "\n"
   ]
  },
  {
   "cell_type": "code",
   "execution_count": 149,
   "metadata": {},
   "outputs": [
    {
     "name": "stdout",
     "output_type": "stream",
     "text": [
      "[0, None, None, None, None, None, None, None] [840, None, None, None, None, None, None, None] [0, None, None, None, None, None, None, None]\n"
     ]
    }
   ],
   "source": [
    "\n",
    "await lh.aspirate(Plate3[\"A1\"], vols=[100.0], use_channels=[0])\n"
   ]
  },
  {
   "cell_type": "code",
   "execution_count": 150,
   "metadata": {},
   "outputs": [
    {
     "name": "stdout",
     "output_type": "stream",
     "text": [
      "[7200, None, None, None, None, None, None, None] [1800, None, None, None, None, None, None, None] [0, None, None, None, None, None, None, None] [-123, None, None, None, None, None, None, None]\n",
      "[7200, None, None, None, None, None, None, None] [1800, None, None, None, None, None, None, None] [0, None, None, None, None, None, None, None] [-123, None, None, None, None, None, None, None]\n",
      "[7200, None, None, None, None, None, None, None] [1800, None, None, None, None, None, None, None] [0, None, None, None, None, None, None, None] [-123, None, None, None, None, None, None, None]\n",
      "[7200, None, None, None, None, None, None, None] [1800, None, None, None, None, None, None, None] [0, None, None, None, None, None, None, None] [-123, None, None, None, None, None, None, None]\n",
      "[7200, None, None, None, None, None, None, None] [1800, None, None, None, None, None, None, None] [0, None, None, None, None, None, None, None] [-123, None, None, None, None, None, None, None]\n",
      "[7200, None, None, None, None, None, None, None] [1800, None, None, None, None, None, None, None] [0, None, None, None, None, None, None, None] [-123, None, None, None, None, None, None, None]\n"
     ]
    },
    {
     "ename": "TecanError",
     "evalue": "('Subdevice error', 'C5', 28)",
     "output_type": "error",
     "traceback": [
      "\u001b[1;31m---------------------------------------------------------------------------\u001b[0m",
      "\u001b[1;31mTecanError\u001b[0m                                Traceback (most recent call last)",
      "Cell \u001b[1;32mIn[150], line 11\u001b[0m\n\u001b[0;32m      7\u001b[0m \u001b[39mawait\u001b[39;00m lh\u001b[39m.\u001b[39mdispense(Plate1[\u001b[39m\"\u001b[39m\u001b[39mD4\u001b[39m\u001b[39m\"\u001b[39m], vols\u001b[39m=\u001b[39m[\u001b[39m5.0\u001b[39m], use_channels\u001b[39m=\u001b[39m[\u001b[39m0\u001b[39m])\n\u001b[0;32m     10\u001b[0m \u001b[39mawait\u001b[39;00m lh\u001b[39m.\u001b[39mdispense(Plate1[\u001b[39m\"\u001b[39m\u001b[39mD1\u001b[39m\u001b[39m\"\u001b[39m], vols\u001b[39m=\u001b[39m[\u001b[39m5.0\u001b[39m], use_channels\u001b[39m=\u001b[39m[\u001b[39m0\u001b[39m])\n\u001b[1;32m---> 11\u001b[0m \u001b[39mawait\u001b[39;00m lh\u001b[39m.\u001b[39mdispense(Plate1[\u001b[39m\"\u001b[39m\u001b[39mD2\u001b[39m\u001b[39m\"\u001b[39m], vols\u001b[39m=\u001b[39m[\u001b[39m5.0\u001b[39m], use_channels\u001b[39m=\u001b[39m[\u001b[39m0\u001b[39m])\n\u001b[0;32m     12\u001b[0m \u001b[39mawait\u001b[39;00m lh\u001b[39m.\u001b[39mdispense(Plate1[\u001b[39m\"\u001b[39m\u001b[39mD3\u001b[39m\u001b[39m\"\u001b[39m], vols\u001b[39m=\u001b[39m[\u001b[39m5.0\u001b[39m], use_channels\u001b[39m=\u001b[39m[\u001b[39m0\u001b[39m])\n\u001b[0;32m     13\u001b[0m \u001b[39mawait\u001b[39;00m lh\u001b[39m.\u001b[39mdispense(Plate1[\u001b[39m\"\u001b[39m\u001b[39mD4\u001b[39m\u001b[39m\"\u001b[39m], vols\u001b[39m=\u001b[39m[\u001b[39m5.0\u001b[39m], use_channels\u001b[39m=\u001b[39m[\u001b[39m0\u001b[39m])\n",
      "File \u001b[1;32mc:\\users\\admin\\desktop\\esvelt-pylabrobot\\evoware_programmatic_interface_20230901\\test3_20230901\\pylabrobot\\pylabrobot\\machine.py:20\u001b[0m, in \u001b[0;36mneed_setup_finished.<locals>.wrapper\u001b[1;34m(self, *args, **kwargs)\u001b[0m\n\u001b[0;32m     18\u001b[0m \u001b[39mif\u001b[39;00m \u001b[39mnot\u001b[39;00m \u001b[39mself\u001b[39m\u001b[39m.\u001b[39msetup_finished:\n\u001b[0;32m     19\u001b[0m   \u001b[39mraise\u001b[39;00m \u001b[39mRuntimeError\u001b[39;00m(\u001b[39m\"\u001b[39m\u001b[39mThe setup has not finished. See `setup`.\u001b[39m\u001b[39m\"\u001b[39m)\n\u001b[1;32m---> 20\u001b[0m \u001b[39mawait\u001b[39;00m func(\u001b[39mself\u001b[39m, \u001b[39m*\u001b[39margs, \u001b[39m*\u001b[39m\u001b[39m*\u001b[39mkwargs)\n",
      "File \u001b[1;32mc:\\users\\admin\\desktop\\esvelt-pylabrobot\\evoware_programmatic_interface_20230901\\test3_20230901\\pylabrobot\\pylabrobot\\liquid_handling\\liquid_handler.py:793\u001b[0m, in \u001b[0;36mLiquidHandler.dispense\u001b[1;34m(self, resources, vols, use_channels, flow_rates, end_delay, offsets, liquid_height, liquid_classes, **backend_kwargs)\u001b[0m\n\u001b[0;32m    790\u001b[0m   \u001b[39mdel\u001b[39;00m backend_kwargs[extra]\n\u001b[0;32m    792\u001b[0m \u001b[39mtry\u001b[39;00m:\n\u001b[1;32m--> 793\u001b[0m   \u001b[39mawait\u001b[39;00m \u001b[39mself\u001b[39m\u001b[39m.\u001b[39mbackend\u001b[39m.\u001b[39mdispense(ops\u001b[39m=\u001b[39mdispenses, use_channels\u001b[39m=\u001b[39muse_channels, \u001b[39m*\u001b[39m\u001b[39m*\u001b[39mbackend_kwargs)\n\u001b[0;32m    794\u001b[0m \u001b[39mexcept\u001b[39;00m:\n\u001b[0;32m    795\u001b[0m   \u001b[39mfor\u001b[39;00m op \u001b[39min\u001b[39;00m dispenses:\n",
      "File \u001b[1;32mc:\\users\\admin\\desktop\\esvelt-pylabrobot\\evoware_programmatic_interface_20230901\\test3_20230901\\pylabrobot\\pylabrobot\\liquid_handling\\backends\\tecan\\EVO.py:417\u001b[0m, in \u001b[0;36mEVO.dispense\u001b[1;34m(self, ops, use_channels)\u001b[0m\n\u001b[0;32m    415\u001b[0m \u001b[39mawait\u001b[39;00m \u001b[39mself\u001b[39m\u001b[39m.\u001b[39mliha\u001b[39m.\u001b[39mset_stop_speed_plunger(spp) \u001b[39m# 50 and 2700\u001b[39;00m\n\u001b[0;32m    416\u001b[0m \u001b[39mawait\u001b[39;00m \u001b[39mself\u001b[39m\u001b[39m.\u001b[39mliha\u001b[39m.\u001b[39mset_tracking_distance_z(stz) \u001b[39m# -2100 and 2100\u001b[39;00m\n\u001b[1;32m--> 417\u001b[0m \u001b[39mawait\u001b[39;00m \u001b[39mself\u001b[39m\u001b[39m.\u001b[39mliha\u001b[39m.\u001b[39mmove_tracking_relative(mtr)\n",
      "File \u001b[1;32mc:\\users\\admin\\desktop\\esvelt-pylabrobot\\evoware_programmatic_interface_20230901\\test3_20230901\\pylabrobot\\pylabrobot\\liquid_handling\\backends\\tecan\\EVO.py:1017\u001b[0m, in \u001b[0;36mLiHa.move_tracking_relative\u001b[1;34m(self, rel)\u001b[0m\n\u001b[0;32m   1008\u001b[0m \u001b[39masync\u001b[39;00m \u001b[39mdef\u001b[39;00m \u001b[39mmove_tracking_relative\u001b[39m(\u001b[39mself\u001b[39m, rel: List[Optional[\u001b[39mint\u001b[39m]]):\n\u001b[0;32m   1009\u001b[0m \u001b[39m  \u001b[39m\u001b[39m\"\"\" Move tracking relative. Starts the z-drives and dilutors simultaneously\u001b[39;00m\n\u001b[0;32m   1010\u001b[0m \u001b[39m      to achieve a synchronous tracking movement.\u001b[39;00m\n\u001b[0;32m   1011\u001b[0m \n\u001b[1;32m   (...)\u001b[0m\n\u001b[0;32m   1014\u001b[0m \u001b[39m         -3150 and 3150\u001b[39;00m\n\u001b[0;32m   1015\u001b[0m \u001b[39m  \"\"\"\u001b[39;00m\n\u001b[1;32m-> 1017\u001b[0m   \u001b[39mawait\u001b[39;00m \u001b[39mself\u001b[39m\u001b[39m.\u001b[39mbackend\u001b[39m.\u001b[39msend_command(module\u001b[39m=\u001b[39m\u001b[39mself\u001b[39m\u001b[39m.\u001b[39mmodule, command\u001b[39m=\u001b[39m\u001b[39m\"\u001b[39m\u001b[39mMTR\u001b[39m\u001b[39m\"\u001b[39m, params\u001b[39m=\u001b[39mrel)\n",
      "File \u001b[1;32mc:\\users\\admin\\desktop\\esvelt-pylabrobot\\evoware_programmatic_interface_20230901\\test3_20230901\\pylabrobot\\pylabrobot\\liquid_handling\\backends\\tecan\\EVO.py:143\u001b[0m, in \u001b[0;36mTecanLiquidHandler.send_command\u001b[1;34m(self, module, command, params, write_timeout, read_timeout, wait)\u001b[0m\n\u001b[0;32m    140\u001b[0m   \u001b[39mreturn\u001b[39;00m \u001b[39mNone\u001b[39;00m\n\u001b[0;32m    142\u001b[0m resp \u001b[39m=\u001b[39m \u001b[39mself\u001b[39m\u001b[39m.\u001b[39mread(timeout\u001b[39m=\u001b[39mread_timeout)\n\u001b[1;32m--> 143\u001b[0m \u001b[39mreturn\u001b[39;00m \u001b[39mself\u001b[39;49m\u001b[39m.\u001b[39;49mparse_response(resp)\n",
      "File \u001b[1;32mc:\\users\\admin\\desktop\\esvelt-pylabrobot\\evoware_programmatic_interface_20230901\\test3_20230901\\pylabrobot\\pylabrobot\\liquid_handling\\backends\\tecan\\EVO.py:98\u001b[0m, in \u001b[0;36mTecanLiquidHandler.parse_response\u001b[1;34m(self, resp)\u001b[0m\n\u001b[0;32m     96\u001b[0m ret \u001b[39m=\u001b[39m \u001b[39mint\u001b[39m(resp[\u001b[39m3\u001b[39m]) \u001b[39m^\u001b[39m (\u001b[39m1\u001b[39m \u001b[39m<<\u001b[39m \u001b[39m7\u001b[39m)\n\u001b[0;32m     97\u001b[0m \u001b[39mif\u001b[39;00m ret \u001b[39m!=\u001b[39m \u001b[39m0\u001b[39m:\n\u001b[1;32m---> 98\u001b[0m   \u001b[39mraise\u001b[39;00m error_code_to_exception(module, ret)\n\u001b[0;32m    100\u001b[0m data: List[\u001b[39mint\u001b[39m] \u001b[39m=\u001b[39m [\u001b[39mint\u001b[39m(x) \u001b[39mfor\u001b[39;00m x \u001b[39min\u001b[39;00m s[\u001b[39m3\u001b[39m:\u001b[39m-\u001b[39m\u001b[39m1\u001b[39m]\u001b[39m.\u001b[39msplit(\u001b[39m\"\u001b[39m\u001b[39m,\u001b[39m\u001b[39m\"\u001b[39m) \u001b[39mif\u001b[39;00m x]\n\u001b[0;32m    101\u001b[0m \u001b[39mreturn\u001b[39;00m {\n\u001b[0;32m    102\u001b[0m   \u001b[39m\"\u001b[39m\u001b[39mmodule\u001b[39m\u001b[39m\"\u001b[39m: module,\n\u001b[0;32m    103\u001b[0m   \u001b[39m\"\u001b[39m\u001b[39mdata\u001b[39m\u001b[39m\"\u001b[39m: data\n\u001b[0;32m    104\u001b[0m }\n",
      "\u001b[1;31mTecanError\u001b[0m: ('Subdevice error', 'C5', 28)"
     ]
    }
   ],
   "source": [
    "from pylabrobot.resources import Liquid\n",
    "\n",
    "\n",
    "await lh.dispense(Plate1[\"A1\"], vols=[5.0], use_channels=[0])\n",
    "await lh.dispense(Plate1[\"B2\"], vols=[5.0], use_channels=[0])\n",
    "await lh.dispense(Plate1[\"C3\"], vols=[5.0], use_channels=[0])\n",
    "await lh.dispense(Plate1[\"D4\"], vols=[5.0], use_channels=[0])\n",
    "\n",
    "\n",
    "await lh.dispense(Plate1[\"D1\"], vols=[5.0], use_channels=[0])\n",
    "await lh.dispense(Plate1[\"D2\"], vols=[5.0], use_channels=[0])\n",
    "await lh.dispense(Plate1[\"D3\"], vols=[5.0], use_channels=[0])\n",
    "await lh.dispense(Plate1[\"D4\"], vols=[5.0], use_channels=[0])\n",
    "await lh.dispense(Plate1[\"D5\"], vols=[5.0], use_channels=[0])\n",
    "await lh.dispense(Plate1[\"D6\"], vols=[5.0], use_channels=[0])"
   ]
  },
  {
   "cell_type": "code",
   "execution_count": 30,
   "metadata": {},
   "outputs": [
    {
     "name": "stdout",
     "output_type": "stream",
     "text": [
      "TecanTip(has_filter=False, total_tip_length=39, maximal_volume=400, fitting_depth=37)\n",
      "True\n",
      "TipType.STANDARD\n",
      "TipType.DITI\n"
     ]
    }
   ],
   "source": [
    "print(lh.head[1].get_tip())\n",
    "print(isinstance(lh.head[1].get_tip(), TecanTip))\n",
    "tip = lh.head[1].get_tip()\n",
    "\n",
    "print(tip.tip_type or TipType.DITI)\n",
    "print(None or TipType.DITI)"
   ]
  },
  {
   "cell_type": "code",
   "execution_count": 10,
   "metadata": {},
   "outputs": [
    {
     "name": "stdout",
     "output_type": "stream",
     "text": [
      "{0: <pylabrobot.resources.tip_tracker.TipTracker object at 0x0000019C419599C0>, 1: <pylabrobot.resources.tip_tracker.TipTracker object at 0x0000019C41959A20>, 2: <pylabrobot.resources.tip_tracker.TipTracker object at 0x0000019C41959A80>, 3: <pylabrobot.resources.tip_tracker.TipTracker object at 0x0000019C41959AE0>, 4: <pylabrobot.resources.tip_tracker.TipTracker object at 0x0000019C41959B40>, 5: <pylabrobot.resources.tip_tracker.TipTracker object at 0x0000019C41959BA0>, 6: <pylabrobot.resources.tip_tracker.TipTracker object at 0x0000019C41959C00>, 7: <pylabrobot.resources.tip_tracker.TipTracker object at 0x0000019C41959C60>}\n"
     ]
    }
   ],
   "source": [
    "print(lh.head)"
   ]
  },
  {
   "cell_type": "code",
   "execution_count": null,
   "metadata": {},
   "outputs": [],
   "source": [
    "test_plate = Microplate_96_Well(name=\"plate_3\")\n",
    "print(test_plate.serialize())\n",
    "stock_solvent_plate = StockPlate(name=\"plate_3\")\n",
    "print(stock_solvent_plate.serialize())"
   ]
  }
 ],
 "metadata": {
  "kernelspec": {
   "display_name": "env",
   "language": "python",
   "name": "python3"
  },
  "language_info": {
   "codemirror_mode": {
    "name": "ipython",
    "version": 3
   },
   "file_extension": ".py",
   "mimetype": "text/x-python",
   "name": "python",
   "nbconvert_exporter": "python",
   "pygments_lexer": "ipython3",
   "version": "3.10.5"
  },
  "orig_nbformat": 4
 },
 "nbformat": 4,
 "nbformat_minor": 2
}
